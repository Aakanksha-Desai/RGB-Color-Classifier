{
 "cells": [
  {
   "cell_type": "code",
   "execution_count": 1,
   "metadata": {},
   "outputs": [],
   "source": [
    "import numpy as np\n",
    "import tensorflow as tf\n",
    "import pandas as pd\n",
    "from tensorflow import keras"
   ]
  },
  {
   "cell_type": "code",
   "execution_count": 2,
   "metadata": {},
   "outputs": [
    {
     "name": "stderr",
     "output_type": "stream",
     "text": [
      "Using TensorFlow backend.\n"
     ]
    }
   ],
   "source": [
    "from keras.layers import Conv2D, MaxPooling2D, Dense, Activation, Flatten\n",
    "from keras.models import Sequential"
   ]
  },
  {
   "cell_type": "code",
   "execution_count": 3,
   "metadata": {},
   "outputs": [],
   "source": [
    "model = Sequential([\n",
    "                 Conv2D(32,(3,3),input_shape=(64,64,3)),\n",
    "                Activation('relu'),\n",
    "    \n",
    "                MaxPooling2D(2,2),\n",
    "    \n",
    "                Conv2D(32,(3,3)),\n",
    "                Activation('relu'),\n",
    "                \n",
    "                MaxPooling2D(2,2),\n",
    "    \n",
    "                Flatten(),\n",
    "    \n",
    "                Dense(units=128),\n",
    "                Activation('relu'),\n",
    "    \n",
    "                Dense(units=3),\n",
    "                Activation('sigmoid')\n",
    "])"
   ]
  },
  {
   "cell_type": "code",
   "execution_count": 4,
   "metadata": {},
   "outputs": [],
   "source": [
    "model.compile(optimizer='adam',loss = 'categorical_crossentropy', metrics = ['accuracy'])\n"
   ]
  },
  {
   "cell_type": "code",
   "execution_count": 5,
   "metadata": {},
   "outputs": [],
   "source": [
    "from keras.preprocessing.image import ImageDataGenerator"
   ]
  },
  {
   "cell_type": "code",
   "execution_count": 12,
   "metadata": {},
   "outputs": [],
   "source": [
    "train_datagen = ImageDataGenerator(rescale = 1./255)\n",
    "test_datagen = ImageDataGenerator(rescale = 1./255)\n",
    "batch_size = 10"
   ]
  },
  {
   "cell_type": "code",
   "execution_count": 13,
   "metadata": {},
   "outputs": [
    {
     "name": "stdout",
     "output_type": "stream",
     "text": [
      "Found 500 images belonging to 3 classes.\n"
     ]
    }
   ],
   "source": [
    "training_set = train_datagen.flow_from_directory(r'C:\\Users\\aakan\\OneDrive\\Documents\\PROJECTS\\CC Assignment\\new_train',\n",
    "                                                 target_size = (64,64),\n",
    "                                                batch_size = batch_size,\n",
    "                                                \n",
    "                                                class_mode = 'categorical')\n"
   ]
  },
  {
   "cell_type": "code",
   "execution_count": 14,
   "metadata": {},
   "outputs": [
    {
     "name": "stdout",
     "output_type": "stream",
     "text": [
      "Found 100 images belonging to 3 classes.\n"
     ]
    }
   ],
   "source": [
    "test_set = test_datagen.flow_from_directory(r'C:\\Users\\aakan\\OneDrive\\Documents\\PROJECTS\\CC Assignment\\new_test',\n",
    "                                           target_size = (64,64),\n",
    "                                           batch_size = batch_size,\n",
    "                                           class_mode = 'categorical')\n"
   ]
  },
  {
   "cell_type": "code",
   "execution_count": 15,
   "metadata": {},
   "outputs": [],
   "source": [
    "train_size = 500\n",
    "val_size = 100"
   ]
  },
  {
   "cell_type": "code",
   "execution_count": 16,
   "metadata": {},
   "outputs": [
    {
     "name": "stdout",
     "output_type": "stream",
     "text": [
      "Model: \"sequential_1\"\n",
      "_________________________________________________________________\n",
      "Layer (type)                 Output Shape              Param #   \n",
      "=================================================================\n",
      "conv2d_1 (Conv2D)            (None, 62, 62, 32)        896       \n",
      "_________________________________________________________________\n",
      "activation_1 (Activation)    (None, 62, 62, 32)        0         \n",
      "_________________________________________________________________\n",
      "max_pooling2d_1 (MaxPooling2 (None, 31, 31, 32)        0         \n",
      "_________________________________________________________________\n",
      "conv2d_2 (Conv2D)            (None, 29, 29, 32)        9248      \n",
      "_________________________________________________________________\n",
      "activation_2 (Activation)    (None, 29, 29, 32)        0         \n",
      "_________________________________________________________________\n",
      "max_pooling2d_2 (MaxPooling2 (None, 14, 14, 32)        0         \n",
      "_________________________________________________________________\n",
      "flatten_1 (Flatten)          (None, 6272)              0         \n",
      "_________________________________________________________________\n",
      "dense_1 (Dense)              (None, 128)               802944    \n",
      "_________________________________________________________________\n",
      "activation_3 (Activation)    (None, 128)               0         \n",
      "_________________________________________________________________\n",
      "dense_2 (Dense)              (None, 3)                 387       \n",
      "_________________________________________________________________\n",
      "activation_4 (Activation)    (None, 3)                 0         \n",
      "=================================================================\n",
      "Total params: 813,475\n",
      "Trainable params: 813,475\n",
      "Non-trainable params: 0\n",
      "_________________________________________________________________\n"
     ]
    }
   ],
   "source": [
    "model.summary()"
   ]
  },
  {
   "cell_type": "code",
   "execution_count": 17,
   "metadata": {},
   "outputs": [],
   "source": [
    "from PIL import ImageFile\n",
    "ImageFile.LOAD_TRUNCATED_IMAGES = True"
   ]
  },
  {
   "cell_type": "code",
   "execution_count": 20,
   "metadata": {},
   "outputs": [
    {
     "name": "stdout",
     "output_type": "stream",
     "text": [
      "Epoch 1/50\n",
      " 5/50 [==>...........................] - ETA: 1s - loss: 0.0118 - accuracy: 1.0000  "
     ]
    },
    {
     "name": "stderr",
     "output_type": "stream",
     "text": [
      "C:\\Users\\aakan\\AppData\\Local\\Continuum\\anaconda3\\lib\\site-packages\\ipykernel_launcher.py:4: UserWarning: The semantics of the Keras 2 argument `steps_per_epoch` is not the same as the Keras 1 argument `samples_per_epoch`. `steps_per_epoch` is the number of batches to draw from the generator at each epoch. Basically steps_per_epoch = samples_per_epoch/batch_size. Similarly `nb_val_samples`->`validation_steps` and `val_samples`->`steps` arguments have changed. Update your method calls accordingly.\n",
      "  after removing the cwd from sys.path.\n",
      "C:\\Users\\aakan\\AppData\\Local\\Continuum\\anaconda3\\lib\\site-packages\\ipykernel_launcher.py:4: UserWarning: Update your `fit_generator` call to the Keras 2 API: `fit_generator(<keras.pre..., steps_per_epoch=50, validation_data=<keras.pre..., validation_steps=10, epochs=50)`\n",
      "  after removing the cwd from sys.path.\n"
     ]
    },
    {
     "name": "stdout",
     "output_type": "stream",
     "text": [
      "50/50 [==============================] - 2s 36ms/step - loss: 0.0931 - accuracy: 0.9620 - val_loss: 0.1574 - val_accuracy: 0.9300\n",
      "Epoch 2/50\n",
      "50/50 [==============================] - 2s 34ms/step - loss: 0.0625 - accuracy: 0.9820 - val_loss: 1.4318e-05 - val_accuracy: 0.9500\n",
      "Epoch 3/50\n",
      "50/50 [==============================] - 2s 33ms/step - loss: 0.0775 - accuracy: 0.9700 - val_loss: 0.2338 - val_accuracy: 0.9200\n",
      "Epoch 4/50\n",
      "50/50 [==============================] - 2s 36ms/step - loss: 0.1085 - accuracy: 0.9620 - val_loss: 0.1032 - val_accuracy: 0.9400\n",
      "Epoch 5/50\n",
      "50/50 [==============================] - 2s 35ms/step - loss: 0.0601 - accuracy: 0.9840 - val_loss: 0.0059 - val_accuracy: 0.9400\n",
      "Epoch 6/50\n",
      "50/50 [==============================] - 2s 35ms/step - loss: 0.0623 - accuracy: 0.9700 - val_loss: 0.0328 - val_accuracy: 0.9700\n",
      "Epoch 7/50\n",
      "50/50 [==============================] - 2s 34ms/step - loss: 0.0546 - accuracy: 0.9760 - val_loss: 0.0292 - val_accuracy: 0.9600\n",
      "Epoch 8/50\n",
      "50/50 [==============================] - 2s 35ms/step - loss: 0.0308 - accuracy: 0.9840 - val_loss: 0.0086 - val_accuracy: 0.9600\n",
      "Epoch 9/50\n",
      "50/50 [==============================] - 2s 34ms/step - loss: 0.0710 - accuracy: 0.9780 - val_loss: 0.0034 - val_accuracy: 0.9400\n",
      "Epoch 10/50\n",
      "50/50 [==============================] - 2s 33ms/step - loss: 0.0871 - accuracy: 0.9700 - val_loss: 0.0414 - val_accuracy: 0.9500\n",
      "Epoch 11/50\n",
      "50/50 [==============================] - 2s 33ms/step - loss: 0.0612 - accuracy: 0.9760 - val_loss: 0.0899 - val_accuracy: 0.9100\n",
      "Epoch 12/50\n",
      "50/50 [==============================] - 2s 36ms/step - loss: 0.1236 - accuracy: 0.9560 - val_loss: 0.0670 - val_accuracy: 0.9200\n",
      "Epoch 13/50\n",
      "50/50 [==============================] - 2s 34ms/step - loss: 0.0780 - accuracy: 0.9780 - val_loss: 0.0378 - val_accuracy: 0.9500: 0.0798 - accuracy\n",
      "Epoch 14/50\n",
      "50/50 [==============================] - 2s 34ms/step - loss: 0.0674 - accuracy: 0.9700 - val_loss: 0.4928 - val_accuracy: 0.9200\n",
      "Epoch 15/50\n",
      "50/50 [==============================] - 2s 35ms/step - loss: 0.0604 - accuracy: 0.9780 - val_loss: 0.0519 - val_accuracy: 0.9500\n",
      "Epoch 16/50\n",
      "50/50 [==============================] - 2s 35ms/step - loss: 0.0443 - accuracy: 0.9860 - val_loss: 0.0238 - val_accuracy: 0.9600\n",
      "Epoch 17/50\n",
      "50/50 [==============================] - 2s 34ms/step - loss: 0.1044 - accuracy: 0.9660 - val_loss: 0.1653 - val_accuracy: 0.9500\n",
      "Epoch 18/50\n",
      "50/50 [==============================] - 2s 35ms/step - loss: 0.1285 - accuracy: 0.9680 - val_loss: 0.0265 - val_accuracy: 0.9600\n",
      "Epoch 19/50\n",
      "50/50 [==============================] - 2s 34ms/step - loss: 0.1251 - accuracy: 0.9600 - val_loss: 0.2960 - val_accuracy: 0.9000\n",
      "Epoch 20/50\n",
      "50/50 [==============================] - 2s 34ms/step - loss: 0.1011 - accuracy: 0.9600 - val_loss: 0.3514 - val_accuracy: 0.9200\n",
      "Epoch 21/50\n",
      "50/50 [==============================] - 2s 34ms/step - loss: 0.0569 - accuracy: 0.9820 - val_loss: 0.0077 - val_accuracy: 0.9700\n",
      "Epoch 22/50\n",
      "50/50 [==============================] - 2s 34ms/step - loss: 0.0945 - accuracy: 0.9680 - val_loss: 0.0022 - val_accuracy: 0.9800\n",
      "Epoch 23/50\n",
      "50/50 [==============================] - 2s 34ms/step - loss: 0.0649 - accuracy: 0.9800 - val_loss: 0.1784 - val_accuracy: 0.9100\n",
      "Epoch 24/50\n",
      "50/50 [==============================] - 2s 34ms/step - loss: 0.0907 - accuracy: 0.9620 - val_loss: 0.0010 - val_accuracy: 0.9700\n",
      "Epoch 25/50\n",
      "50/50 [==============================] - 2s 34ms/step - loss: 0.0514 - accuracy: 0.9760 - val_loss: 0.0492 - val_accuracy: 0.9600\n",
      "Epoch 26/50\n",
      "50/50 [==============================] - 2s 34ms/step - loss: 0.0663 - accuracy: 0.9720 - val_loss: 0.0425 - val_accuracy: 0.9800\n",
      "Epoch 27/50\n",
      "50/50 [==============================] - 2s 33ms/step - loss: 0.0867 - accuracy: 0.9720 - val_loss: 0.2326 - val_accuracy: 0.9300\n",
      "Epoch 28/50\n",
      "50/50 [==============================] - 2s 33ms/step - loss: 0.0707 - accuracy: 0.9780 - val_loss: 0.0545 - val_accuracy: 0.9500\n",
      "Epoch 29/50\n",
      "50/50 [==============================] - 2s 33ms/step - loss: 0.0371 - accuracy: 0.9880 - val_loss: 0.0122 - val_accuracy: 0.9400\n",
      "Epoch 30/50\n",
      "50/50 [==============================] - 2s 34ms/step - loss: 0.0407 - accuracy: 0.9860 - val_loss: 0.0014 - val_accuracy: 0.9600\n",
      "Epoch 31/50\n",
      "50/50 [==============================] - 2s 33ms/step - loss: 0.0495 - accuracy: 0.9820 - val_loss: 0.0669 - val_accuracy: 0.9600\n",
      "Epoch 32/50\n",
      "50/50 [==============================] - 2s 33ms/step - loss: 0.0408 - accuracy: 0.9860 - val_loss: 0.0035 - val_accuracy: 0.9700\n",
      "Epoch 33/50\n",
      "50/50 [==============================] - 2s 32ms/step - loss: 0.1051 - accuracy: 0.9780 - val_loss: 0.1485 - val_accuracy: 0.9200\n",
      "Epoch 34/50\n",
      "50/50 [==============================] - 2s 33ms/step - loss: 0.0745 - accuracy: 0.9720 - val_loss: 0.1397 - val_accuracy: 0.9400\n",
      "Epoch 35/50\n",
      "50/50 [==============================] - 2s 32ms/step - loss: 0.0374 - accuracy: 0.9860 - val_loss: 2.2814e-04 - val_accuracy: 0.9400\n",
      "Epoch 36/50\n",
      "50/50 [==============================] - 2s 35ms/step - loss: 0.0725 - accuracy: 0.9740 - val_loss: 5.8308e-04 - val_accuracy: 0.9400\n",
      "Epoch 37/50\n",
      "50/50 [==============================] - 2s 33ms/step - loss: 0.0482 - accuracy: 0.9800 - val_loss: 1.0708 - val_accuracy: 0.9300\n",
      "Epoch 38/50\n",
      "50/50 [==============================] - 2s 32ms/step - loss: 0.1041 - accuracy: 0.9620 - val_loss: 0.0703 - val_accuracy: 0.9800\n",
      "Epoch 39/50\n",
      "50/50 [==============================] - 2s 32ms/step - loss: 0.0472 - accuracy: 0.9860 - val_loss: 0.0229 - val_accuracy: 0.9600\n",
      "Epoch 40/50\n",
      "50/50 [==============================] - 2s 32ms/step - loss: 0.0517 - accuracy: 0.9780 - val_loss: 0.0950 - val_accuracy: 0.9300\n",
      "Epoch 41/50\n",
      "50/50 [==============================] - 2s 32ms/step - loss: 0.0402 - accuracy: 0.9820 - val_loss: 0.0044 - val_accuracy: 0.9600\n",
      "Epoch 42/50\n",
      "50/50 [==============================] - 2s 33ms/step - loss: 0.0478 - accuracy: 0.9840 - val_loss: 0.1210 - val_accuracy: 0.9300\n",
      "Epoch 43/50\n",
      "50/50 [==============================] - 2s 31ms/step - loss: 0.0427 - accuracy: 0.9780 - val_loss: 0.0650 - val_accuracy: 0.9300\n",
      "Epoch 44/50\n",
      "50/50 [==============================] - 2s 32ms/step - loss: 0.0898 - accuracy: 0.9640 - val_loss: 3.9977e-04 - val_accuracy: 0.9500\n",
      "Epoch 45/50\n",
      "50/50 [==============================] - 2s 33ms/step - loss: 0.0459 - accuracy: 0.9880 - val_loss: 0.0858 - val_accuracy: 0.9600\n",
      "Epoch 46/50\n",
      "50/50 [==============================] - 2s 33ms/step - loss: 0.0355 - accuracy: 0.9860 - val_loss: 0.0022 - val_accuracy: 0.9800\n",
      "Epoch 47/50\n",
      "50/50 [==============================] - 2s 33ms/step - loss: 0.0393 - accuracy: 0.9840 - val_loss: 0.0583 - val_accuracy: 0.9800\n",
      "Epoch 48/50\n",
      "50/50 [==============================] - 2s 33ms/step - loss: 0.0496 - accuracy: 0.9800 - val_loss: 0.0897 - val_accuracy: 0.9600\n",
      "Epoch 49/50\n",
      "50/50 [==============================] - 2s 32ms/step - loss: 0.0338 - accuracy: 0.9940 - val_loss: 0.2861 - val_accuracy: 0.9600\n",
      "Epoch 50/50\n",
      "50/50 [==============================] - 2s 34ms/step - loss: 0.0328 - accuracy: 0.9840 - val_loss: 0.0109 - val_accuracy: 0.9600\n"
     ]
    }
   ],
   "source": [
    "history = model.fit_generator(training_set,\n",
    "                             nb_epoch = 50, steps_per_epoch = train_size//batch_size,\n",
    "                             validation_data = test_set,\n",
    "                            validation_steps = val_size//batch_size\n",
    "                             )"
   ]
  },
  {
   "cell_type": "code",
   "execution_count": 21,
   "metadata": {},
   "outputs": [],
   "source": [
    "acc = history.history['accuracy']\n",
    "val_acc = history.history['val_accuracy']"
   ]
  },
  {
   "cell_type": "code",
   "execution_count": 22,
   "metadata": {},
   "outputs": [
    {
     "name": "stdout",
     "output_type": "stream",
     "text": [
      "acc: 97.61600029468536 %\n",
      "val_acc: 94.77999997138977 %\n"
     ]
    }
   ],
   "source": [
    "print('acc:',sum(acc)/len(acc)*100,'%')\n",
    "print('val_acc:',sum(val_acc)/len(val_acc)*100,'%')\n"
   ]
  },
  {
   "cell_type": "code",
   "execution_count": 23,
   "metadata": {},
   "outputs": [],
   "source": [
    "model.save(\"model.h5\")"
   ]
  },
  {
   "cell_type": "code",
   "execution_count": null,
   "metadata": {},
   "outputs": [],
   "source": []
  }
 ],
 "metadata": {
  "kernelspec": {
   "display_name": "Python 3",
   "language": "python",
   "name": "python3"
  },
  "language_info": {
   "codemirror_mode": {
    "name": "ipython",
    "version": 3
   },
   "file_extension": ".py",
   "mimetype": "text/x-python",
   "name": "python",
   "nbconvert_exporter": "python",
   "pygments_lexer": "ipython3",
   "version": "3.7.4"
  }
 },
 "nbformat": 4,
 "nbformat_minor": 2
}
